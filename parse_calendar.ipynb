{
 "cells": [
  {
   "cell_type": "code",
   "execution_count": 9,
   "metadata": {
    "collapsed": false,
    "deletable": true,
    "editable": true
   },
   "outputs": [],
   "source": [
    "import bs4 as bs\n",
    "import urllib.request\n",
    "import pandas as pd\n",
    "import numpy as np\n",
    "import re\n",
    "import datetime\n",
    "import json"
   ]
  },
  {
   "cell_type": "code",
   "execution_count": 3,
   "metadata": {
    "collapsed": false,
    "deletable": true,
    "editable": true
   },
   "outputs": [],
   "source": [
    "def get_geos(html):\n",
    "    source = urllib.request.urlopen(html)\n",
    "    soup = bs.BeautifulSoup(source, 'lxml')\n",
    "    index = soup.select(\".col-sm-4\")\n",
    "    \n",
    "    geos = []\n",
    "    [geos.append(i) for i in [re.findall(\"geo=\\d+\", str(i)) for i in index] if i]\n",
    "    \n",
    "    clean_geos = []\n",
    "    [clean_geos.append(re.findall(\"\\d+\", item)) for sublist in geos for item in sublist]\n",
    "    \n",
    "    return np.unique(np.asarray(clean_geos))"
   ]
  },
  {
   "cell_type": "code",
   "execution_count": 4,
   "metadata": {
    "collapsed": true,
    "deletable": true,
    "editable": true
   },
   "outputs": [],
   "source": [
    "geos = get_geos(\"https://www.feiertagskalender.ch/index.php?jahr=2017&geo=3056&klasse=3&hl=de&hidepast=1\")"
   ]
  },
  {
   "cell_type": "code",
   "execution_count": 5,
   "metadata": {
    "collapsed": false,
    "deletable": true,
    "editable": true
   },
   "outputs": [],
   "source": [
    "def parse_html(html):\n",
    "    source = urllib.request.urlopen(html)\n",
    "    soup = bs.BeautifulSoup(source, 'lxml')\n",
    "    \n",
    "    title = soup.find('title').text\n",
    "    part = soup.select(\".list-group-item\")\n",
    "    \n",
    "    return title, part"
   ]
  },
  {
   "cell_type": "code",
   "execution_count": 6,
   "metadata": {
    "collapsed": false,
    "deletable": true,
    "editable": true
   },
   "outputs": [],
   "source": [
    "def html_to_list(start, end, lang = 'de'):\n",
    "    if lang not in ['de', 'fr', 'it']:\n",
    "        raise ValueError(\"Language must be 'de', 'fr' or 'it'\")\n",
    "    l = {}\n",
    "    for i in range(start,end):\n",
    "        for geo in geos:\n",
    "            try:\n",
    "                url = \"https://www.feiertagskalender.ch/index.php?geo=\"+str(geo)+\"&klasse=3&jahr=\"+str(i)+\"&hl=\"+str(lang)\n",
    "                title, part = parse_html(url)\n",
    "                array = []\n",
    "                [array.append(i.text) for i in part]\n",
    "                l[title] = array\n",
    "            except:\n",
    "                pass\n",
    "    return l"
   ]
  },
  {
   "cell_type": "code",
   "execution_count": 7,
   "metadata": {
    "collapsed": false,
    "deletable": true,
    "editable": true
   },
   "outputs": [],
   "source": [
    "now = datetime.datetime.now()\n",
    "start = now.year-10\n",
    "end = now.year+20\n",
    "\n",
    "l = html_to_list(start, end)"
   ]
  },
  {
   "cell_type": "code",
   "execution_count": 10,
   "metadata": {
    "collapsed": false,
    "deletable": true,
    "editable": true
   },
   "outputs": [],
   "source": [
    "with open('data.json', 'w') as outfile:\n",
    "    json.dump(l, outfile)"
   ]
  },
  {
   "cell_type": "code",
   "execution_count": null,
   "metadata": {
    "collapsed": true,
    "deletable": true,
    "editable": true
   },
   "outputs": [],
   "source": []
  }
 ],
 "metadata": {
  "kernelspec": {
   "display_name": "Python 3",
   "language": "python",
   "name": "python3"
  },
  "language_info": {
   "codemirror_mode": {
    "name": "ipython",
    "version": 3
   },
   "file_extension": ".py",
   "mimetype": "text/x-python",
   "name": "python",
   "nbconvert_exporter": "python",
   "pygments_lexer": "ipython3",
   "version": "3.6.1"
  }
 },
 "nbformat": 4,
 "nbformat_minor": 2
}
